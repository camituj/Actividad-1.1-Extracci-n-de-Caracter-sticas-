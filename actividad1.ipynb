{
 "cells": [
  {
   "cell_type": "markdown",
   "metadata": {},
   "source": []
  },
  {
   "cell_type": "code",
   "execution_count": 49,
   "metadata": {},
   "outputs": [],
   "source": [
    "import pandas as pd\n",
    "import numpy as np\n",
    "import seaborn as sns\n",
    "import matplotlib.pyplot as plt\n",
    "import math"
   ]
  },
  {
   "cell_type": "code",
   "execution_count": 50,
   "metadata": {},
   "outputs": [],
   "source": [
    "df = pd.read_csv(\"listings_tokyo_original.csv\")"
   ]
  },
  {
   "cell_type": "code",
   "execution_count": 51,
   "metadata": {},
   "outputs": [
    {
     "data": {
      "text/plain": [
       "id                                                 0\n",
       "listing_url                                        0\n",
       "scrape_id                                          0\n",
       "last_scraped                                       0\n",
       "source                                             0\n",
       "                                                ... \n",
       "calculated_host_listings_count                     0\n",
       "calculated_host_listings_count_entire_homes        0\n",
       "calculated_host_listings_count_private_rooms       0\n",
       "calculated_host_listings_count_shared_rooms        0\n",
       "reviews_per_month                               2883\n",
       "Length: 75, dtype: int64"
      ]
     },
     "execution_count": 51,
     "metadata": {},
     "output_type": "execute_result"
    }
   ],
   "source": [
    "valores_nulos = df.isnull().sum()\n",
    "valores_nulos"
   ]
  },
  {
   "cell_type": "code",
   "execution_count": 52,
   "metadata": {},
   "outputs": [],
   "source": [
    "df = df.dropna()\n",
    "df = df.dropna(subset=['reviews_per_month'])"
   ]
  },
  {
   "cell_type": "code",
   "execution_count": 53,
   "metadata": {},
   "outputs": [
    {
     "data": {
      "text/plain": [
       "id                                              0\n",
       "listing_url                                     0\n",
       "scrape_id                                       0\n",
       "last_scraped                                    0\n",
       "source                                          0\n",
       "                                               ..\n",
       "calculated_host_listings_count                  0\n",
       "calculated_host_listings_count_entire_homes     0\n",
       "calculated_host_listings_count_private_rooms    0\n",
       "calculated_host_listings_count_shared_rooms     0\n",
       "reviews_per_month                               0\n",
       "Length: 75, dtype: int64"
      ]
     },
     "execution_count": 53,
     "metadata": {},
     "output_type": "execute_result"
    }
   ],
   "source": [
    "valores_nulos = df.isnull().sum()\n",
    "valores_nulos"
   ]
  },
  {
   "cell_type": "code",
   "execution_count": 54,
   "metadata": {},
   "outputs": [
    {
     "name": "stdout",
     "output_type": "stream",
     "text": [
      "listo, outliers eliminados con el método IQR\n"
     ]
    }
   ],
   "source": [
    "#outliers con el método IQR\n",
    "def remove_outliers_iqr(df, column):\n",
    "    Q1 = df[column].quantile(0.25)\n",
    "    Q3 = df[column].quantile(0.75)\n",
    "    IQR = Q3 - Q1\n",
    "    lower_bound = Q1 - 1.5 * IQR\n",
    "    upper_bound = Q3 + 1.5 * IQR\n",
    "    return df[(df[column] >= lower_bound) & (df[column] <= upper_bound)]\n",
    "\n",
    "\n",
    "\n",
    "for col in df.select_dtypes(include=np.number).columns:\n",
    "    df = remove_outliers_iqr(df, col)\n",
    "\n",
    "print(\"listo, outliers eliminados con el método IQR\")"
   ]
  },
  {
   "cell_type": "code",
   "execution_count": 55,
   "metadata": {},
   "outputs": [],
   "source": [
    "#análisis gráficas y tablas\n",
    "categorical_columns = [\n",
    "    col for col in df.select_dtypes(include=['object']).columns[:15]\n",
    "    if df[col].notna().sum() > 0  # filtrar solo columnas con datos\n",
    "]\n"
   ]
  },
  {
   "cell_type": "code",
   "execution_count": 56,
   "metadata": {},
   "outputs": [
    {
     "name": "stdout",
     "output_type": "stream",
     "text": [
      "Total columnas categóricas seleccionadas: 0\n",
      "Columnas categóricas seleccionadas: []\n"
     ]
    }
   ],
   "source": [
    "print(f\"Total columnas categóricas seleccionadas: {len(categorical_columns)}\")\n",
    "print(\"Columnas categóricas seleccionadas:\", categorical_columns)"
   ]
  },
  {
   "cell_type": "code",
   "execution_count": 57,
   "metadata": {},
   "outputs": [
    {
     "name": "stdout",
     "output_type": "stream",
     "text": [
      "no hay columnas con datos suficientes para poder graficarlas\n"
     ]
    }
   ],
   "source": [
    "num_cols = len(categorical_columns)\n",
    "\n",
    "if num_cols > 0:  # asegurar que hay columnas para graficar\n",
    "    rows = (num_cols // 3) + (num_cols % 3 > 0)  # ajustar número de filas dinámicamente\n",
    "    cols = min(num_cols, 3)  # si hay menos de 3 columnas, evitar error en subplots\n",
    "\n",
    "    fig, axes = plt.subplots(rows, cols, figsize=(18, rows * 5))  # ajuste dinámico\n",
    "    axes = np.array(axes).reshape(-1)  # convierto en array 1D para evitar errores\n",
    "\n",
    "    for i, col in enumerate(categorical_columns):\n",
    "        sns.countplot(y=df[col], order=df[col].value_counts().index, ax=axes[i])\n",
    "        axes[i].set_title(f\"Frecuencia de {col}\")\n",
    "\n",
    "    for j in range(i + 1, len(axes)):\n",
    "        axes[j].axis(\"off\")\n",
    "\n",
    "    plt.tight_layout()\n",
    "    plt.show()\n",
    "else:\n",
    "    print(\"no hay columnas con datos suficientes para poder graficarlas\")"
   ]
  },
  {
   "cell_type": "code",
   "execution_count": 58,
   "metadata": {},
   "outputs": [
    {
     "data": {
      "text/plain": [
       "<Figure size 640x480 with 0 Axes>"
      ]
     },
     "metadata": {},
     "output_type": "display_data"
    }
   ],
   "source": [
    "plt.tight_layout()\n",
    "plt.show()"
   ]
  },
  {
   "cell_type": "code",
   "execution_count": 59,
   "metadata": {},
   "outputs": [],
   "source": [
    "#categorias de variables con la regla de sturges. #más gráficas\n",
    "variables = [\"host_response_rate\", \"host_acceptance_rate\", \"host_total_listings_count\",\n",
    "             \"accommodates\", \"bathrooms_text\", \"beds\", \"price\", \"maximum_nights_avg_ntm\",\n",
    "             \"availability_365\", \"number_of_reviews\", \"review_scores_value\", \"reviews_per_month\"]\n"
   ]
  },
  {
   "cell_type": "code",
   "execution_count": 60,
   "metadata": {},
   "outputs": [],
   "source": [
    "for var in variables:\n",
    "    if var in df.columns:\n",
    "        df[var] = pd.to_numeric(df[var], errors=\"coerce\")  # convertir a numérico (NaN) si no se puede\n"
   ]
  },
  {
   "cell_type": "code",
   "execution_count": 61,
   "metadata": {},
   "outputs": [],
   "source": [
    "for var in variables:\n",
    "    if var in df.columns and df[var].notna().sum() > 0:  # Verificar que no esté vacía\n",
    "        n_bins = int(1 + math.log2(len(df.dropna(subset=[var]))))  # Regla de Sturges\n",
    "        df[var + \"_bins\"] = pd.cut(df[var], bins=n_bins, labels=[f\"Bin{i}\" for i in range(n_bins)])\n",
    "\n",
    "        # Graficar las frecuencias de las categorías\n",
    "        plt.figure(figsize=(8, 5))\n",
    "        df[var + \"_bins\"].value_counts().sort_index().plot(kind=\"bar\", color=\"skyblue\")\n",
    "        plt.title(f\"Frecuencia de Categorías - {var}\")\n",
    "        plt.xticks(rotation=45)\n",
    "        plt.show()"
   ]
  }
 ],
 "metadata": {
  "kernelspec": {
   "display_name": "Python 3",
   "language": "python",
   "name": "python3"
  },
  "language_info": {
   "codemirror_mode": {
    "name": "ipython",
    "version": 3
   },
   "file_extension": ".py",
   "mimetype": "text/x-python",
   "name": "python",
   "nbconvert_exporter": "python",
   "pygments_lexer": "ipython3",
   "version": "3.12.4"
  }
 },
 "nbformat": 4,
 "nbformat_minor": 2
}
